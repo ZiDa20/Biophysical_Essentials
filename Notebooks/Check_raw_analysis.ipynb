{
 "cells": [
  {
   "cell_type": "code",
   "execution_count": 207,
   "metadata": {},
   "outputs": [],
   "source": [
    "import numpy as np \n",
    "import pandas as pd \n",
    "\n",
    "\n",
    "\n",
    "\n",
    "class AnalysisRaw():\n",
    "    \n",
    "    def __init__(self,time, data):\n",
    "        \"\"\" Object initializing \n",
    "        add trace with childs \"\"\"\n",
    "\n",
    "        # set the time the experiment was runnning\n",
    "        self.time = time\n",
    "        self.data = data # set the data associated to the time\n",
    "        self._trace = None\n",
    "\n",
    "        # make additional slots for the metadata\n",
    "        self._lower_bounds = None\n",
    "        self._upper_bounds = None\n",
    "\n",
    "        self._sweep = None # sweep in voltage or as current\n",
    "        self._meta = None # integrate the metadata to the child \n",
    "        self.sliced_trace = None # both time as well as voltage data\n",
    "        self.sliced_volt = None # only voltage data\n",
    "        self._area = None\n",
    "        self._max = None\n",
    "        self._mean = None\n",
    "        self._min = None\n",
    "\n",
    "    @property\n",
    "    def lower_bounds(self):\n",
    "        \"\"\" get the lower and upper bounds \"\"\"\n",
    "        print(\"The lower bound: \")\n",
    "        return self._lower_bounds\n",
    "    \n",
    "    @property\n",
    "    def upper_bounds(self):\n",
    "        print(\"The upper bound: \")\n",
    "        return self._upper_bounds\n",
    "        \n",
    "\n",
    "    @lower_bounds.setter\n",
    "    def lower_bounds(self, lower_bound):\n",
    "        \"\"\" set the lower and upper bound \"\"\"\n",
    "        print(\"Setting value\")\n",
    "        if type(lower_bound) in [int,float]:\n",
    "            self._lower_bounds = lower_bound\n",
    "        else:\n",
    "            raise TypeError(\"Wrong Input please specificy floats\")\n",
    "            \n",
    "            \n",
    "    @upper_bounds.setter\n",
    "    def upper_bounds(self, upper_bound):\n",
    "        \"\"\" set the lower and upper bound \"\"\"\n",
    "        print(\"Setting value\")\n",
    "        if type(upper_bound) in [int,float]:\n",
    "            self._upper_bounds = upper_bound\n",
    "        else:\n",
    "            raise TypeError(\"Wrong Input please specificy floats\")\n",
    "\n",
    "    def construct_trace(self):\n",
    "        \"\"\" construct the trace \"\"\"  \n",
    "        self.trace = np.vstack((self.time, self.data)).T\n",
    "       \n",
    "    def slice_trace(self):\n",
    "        \"\"\" slice the trace based on the incoming upper and lower bounds \"\"\" \n",
    "        if (self._lower_bounds & self._upper_bounds):\n",
    "            self.sliced_trace = self.trace[((self.trace[:,0] > self._lower_bounds) & (self.trace[:,0] < self._upper_bounds))]\n",
    "            print(self.sliced_trace)\n",
    "            self.sliced_volt = self.sliced_trace[:,1]\n",
    "        else:\n",
    "            raise ValueError(\"No upper and lower bonds set yet, please sets and use the rectangular function\")\n",
    "\n",
    "    def max_current(self):\n",
    "        \"\"\" determine the max voltage \"\"\"\n",
    "        self._max = np.max(self.sliced_volt)\n",
    "        return self._max\n",
    "    \n",
    "    def mean_current(self):\n",
    "        self._mean = np.mean(self.sliced_volt)\n",
    "        return self._mean\n",
    "       \n",
    "    def min_current(self):\n",
    "        self._min = np.min(self.sliced_volt)\n",
    "        return self._min\n",
    "    \n",
    "    def time_to_maximum(self):\n",
    "        index = self.index_calculation(self._max)\n",
    "        time = self.sliced_trace[:,0][:index]\n",
    "        self._max_time = self.calculate_time(np.max(time),np.min(time))\n",
    "        print(self._max_time)\n",
    "        \n",
    "    def time_to_minimum(self):\n",
    "        index = self.index_calculation(self._min)\n",
    "        time = self.sliced_trace[:,0][:index]\n",
    "        self._min_time = self.calculate_time(np.max(time),np.min(time))\n",
    "        print(self._min_time)\n",
    "        \n",
    "    def time_to_threshold(self, threshold):\n",
    "        if type(threshold) in [int,float]:\n",
    "            index = self.index_calculation(threshold, True)\n",
    "            time = self.sliced_trace[:,0][:index]\n",
    "            self._threshold_time = self.calculate_time(np.max(time),np.min(time))\n",
    "            print(self._threshold_time)\n",
    "        else:\n",
    "            raise ValueError(\"Please use a float or integer as a valid voltage threshold\")\n",
    "        \n",
    "    def index_calculation(self, value, comp = None):\n",
    "        if comp:\n",
    "            index = np.where(self.sliced_volt > value)[0][0]\n",
    "            return index\n",
    "        index = np.where(self.sliced_volt == value)[0][0]\n",
    "        return index\n",
    "        \n",
    "    def calculate_time(self,maximum, minimum):\n",
    "        time = maximum-minimum\n",
    "        if time < 0: \n",
    "            raise ValueError(\"Negative time, think about switching indices\")\n",
    "        return time\n",
    "        \n",
    "    def get_cslow(self, meta_data_slow):\n",
    "        \"\"\" add here check conditions for cslow ranges ect \"\"\" \n",
    "        return meta_data_cslow\n",
    "\n",
    "    def check_rseries(self, rseries):\n",
    "        if type(rseries) is int:\n",
    "            if rseries < 12:\n",
    "                qc = 1\n",
    "                return rseries, qc\n",
    "            else:\n",
    "                raise \"Rseries changed to much is flagged for quality check\"\n",
    "                qc = 0\n",
    "                return rseries, qc \n",
    "\n",
    "    def get_area(self):\n",
    "        self.area =  np.trapz(self.sliced_trace[:,0],self.sliced_trace[:,1])\n",
    "        print(self.area)\n",
    "\n",
    "    @classmethod   \n",
    "    def __sub__(cls, first_trace, second_trace):\n",
    "        try:\n",
    "            sub_trace = self.slice_volt - second_trace\n",
    "        except ValueError:\n",
    "            raise(\"Please use input with the same shape\")\n",
    "\n",
    "    @classmethod\n",
    "    def __add__(cls,first_trace, second_trace):\n",
    "        try:\n",
    "            sub_trace = self.slice_volt + second_trace\n",
    "            return sub_trace\n",
    "        \n",
    "        except:\n",
    "            raise ValueError(\"Please use input with the same shape\")\n",
    "\n",
    "    @classmethod\n",
    "    def __multiply__(cls, first_trace, second_trace):\n",
    "        try: \n",
    "            sub_trace = self.slice_volt * second_trace\n",
    "            return sub_trace\n",
    "        \n",
    "        except ValueError:\n",
    "            raise(\"Please use input with the same shape\")\n",
    "        "
   ]
  },
  {
   "cell_type": "code",
   "execution_count": 180,
   "metadata": {},
   "outputs": [
    {
     "data": {
      "text/plain": [
       "<matplotlib.axes._subplots.AxesSubplot at 0x7f57b2e89f90>"
      ]
     },
     "execution_count": 180,
     "metadata": {},
     "output_type": "execute_result"
    },
    {
     "data": {
      "image/png": "[encoded data removed]",
      "text/plain": [
       "<Figure size 432x288 with 1 Axes>"
      ]
     },
     "metadata": {
      "needs_background": "light"
     },
     "output_type": "display_data"
    }
   ],
   "source": [
    "import seaborn as sns\n",
    "time = np.linspace(0,100, 200)\n",
    "data = np.random.normal(4, 0.2, 200)\n",
    "sns.lineplot(time, data)"
   ]
  },
  {
   "cell_type": "code",
   "execution_count": 206,
   "metadata": {},
   "outputs": [
    {
     "name": "stdout",
     "output_type": "stream",
     "text": [
      "Setting value\n",
      "Setting value\n",
      "[[30.15075377  4.01785699]\n",
      " [30.65326633  3.99292797]\n",
      " [31.15577889  4.09361698]\n",
      " [31.65829146  4.08560658]\n",
      " [32.16080402  4.17224179]\n",
      " [32.66331658  4.24891528]\n",
      " [33.16582915  4.0411769 ]\n",
      " [33.66834171  3.88699705]\n",
      " [34.17085427  4.38887012]\n",
      " [34.67336683  3.68961942]\n",
      " [35.1758794   3.77462511]\n",
      " [35.67839196  4.1188922 ]\n",
      " [36.18090452  4.1905856 ]\n",
      " [36.68341709  4.00026615]\n",
      " [37.18592965  3.96351338]\n",
      " [37.68844221  4.02560238]\n",
      " [38.19095477  4.41200319]\n",
      " [38.69346734  3.57155646]\n",
      " [39.1959799   4.12101917]\n",
      " [39.69849246  3.7750718 ]]\n",
      "-9.806657028593197\n",
      "7.537688442211056\n",
      "8.040201005025125\n",
      "1.5075376884422127\n"
     ]
    }
   ],
   "source": [
    "analysis = AnalysisRaw(time, data)\n",
    "analysis.lower_bounds = 30\n",
    "analysis.upper_bounds = 40\n",
    "analysis.construct_trace()\n",
    "analysis.slice_trace()\n",
    "analysis.max_current()\n",
    "analysis.mean_current()\n",
    "analysis.min_current()\n",
    "analysis.get_area()\n",
    "analysis.time_to_maximum()\n",
    "analysis.time_to_minimum()\n",
    "analysis.time_to_threshold(4.14)"
   ]
  },
  {
   "cell_type": "code",
   "execution_count": 165,
   "metadata": {},
   "outputs": [
    {
     "data": {
      "text/plain": [
       "(array([], dtype=int64),)"
      ]
     },
     "execution_count": 165,
     "metadata": {},
     "output_type": "execute_result"
    }
   ],
   "source": [
    "np.where(data == 3.94253269)"
   ]
  },
  {
   "cell_type": "code",
   "execution_count": null,
   "metadata": {},
   "outputs": [],
   "source": []
  },
  {
   "cell_type": "code",
   "execution_count": null,
   "metadata": {},
   "outputs": [],
   "source": []
  }
 ],
 "metadata": {
  "kernelspec": {
   "display_name": "Python 3",
   "language": "python",
   "name": "python3"
  },
  "language_info": {
   "codemirror_mode": {
    "name": "ipython",
    "version": 3
   },
   "file_extension": ".py",
   "mimetype": "text/x-python",
   "name": "python",
   "nbconvert_exporter": "python",
   "pygments_lexer": "ipython3",
   "version": "3.7.4"
  }
 },
 "nbformat": 4,
 "nbformat_minor": 2
}
