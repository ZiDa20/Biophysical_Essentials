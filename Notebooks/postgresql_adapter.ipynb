{
 "cells": [
  {
   "cell_type": "code",
   "execution_count": 12,
   "metadata": {},
   "outputs": [
    {
     "name": "stdout",
     "output_type": "stream",
     "text": [
      "Connection to the database successful\n"
     ]
    }
   ],
   "source": [
    "import psycopg2\n",
    "from PySide6.QtSql import QSqlDatabase\n",
    "from PySide6.QtWidgets import QApplication\n",
    "\n",
    "\n",
    "#Class to handle the connection to the database which is currently located at the Amazon RDS Server EC2\n",
    "# This should be replaced by an big data server which allows for online saving\n",
    "# Also great backup option for potential data loss\n",
    "\n",
    "class PostSqlHandler():\n",
    "\n",
    "    \"\"\" Should handle the data connection with PostSql\"\"\"\n",
    "    def __init__(self):\n",
    "        super().__init__() # get the function from the data\n",
    "\n",
    "        #self.initialize_database()\n",
    "        self.get_databases()\n",
    "\n",
    "    def get_databases(self):\n",
    "        db = QSqlDatabase(\"QPSQL\", host = \"neuro-ds.i-med.ac.at\", password = \"datascience\" , userName = \"postgres\")\n",
    "        print(\"Available drivers\", db.drivers())\n",
    "\n",
    "        if not db.open():\n",
    "            print(\"Unable to connect.\")\n",
    "            print('Last error', db.lastError().text())\n",
    "        else:\n",
    "            print(\"Connection to the database successful\")\n",
    "            \n",
    "    print(\"Connection to the database successful\")\n",
    "    def initialize_database(self):\n",
    "        try:\n",
    "            conn = psycopg2.connect(host = \"neuro-ds.i-med.ac.at\",\n",
    "                        database=\"biophys\",\n",
    "                        user=\"postgres\",\n",
    "                        password=\"datascience\",\n",
    "                        port = 5432)\n",
    "            self.database = conn.cursor()\n",
    "\n",
    "        except Exception as e:\n",
    "            print(e)\n"
   ]
  },
  {
   "cell_type": "code",
   "execution_count": 13,
   "metadata": {},
   "outputs": [
    {
     "name": "stdout",
     "output_type": "stream",
     "text": [
      "Available drivers ['QSQLITE', 'QODBC', 'QPSQL']\n",
      "Unable to connect.\n",
      "Last error Driver not loaded Driver not loaded\n"
     ]
    },
    {
     "data": {
      "text/plain": [
       "<__main__.PostSqlHandler at 0x18c6e3bfa30>"
      ]
     },
     "execution_count": 13,
     "metadata": {},
     "output_type": "execute_result"
    }
   ],
   "source": [
    "PostSqlHandler()"
   ]
  }
 ],
 "metadata": {
  "kernelspec": {
   "display_name": "Python 3.9.13 ('etools_qt')",
   "language": "python",
   "name": "python3"
  },
  "language_info": {
   "codemirror_mode": {
    "name": "ipython",
    "version": 3
   },
   "file_extension": ".py",
   "mimetype": "text/x-python",
   "name": "python",
   "nbconvert_exporter": "python",
   "pygments_lexer": "ipython3",
   "version": "3.9.13"
  },
  "orig_nbformat": 4,
  "vscode": {
   "interpreter": {
    "hash": "45075914f370f61cd65179599f0367213a9ac493df957490d413c304aeb03188"
   }
  }
 },
 "nbformat": 4,
 "nbformat_minor": 2
}
