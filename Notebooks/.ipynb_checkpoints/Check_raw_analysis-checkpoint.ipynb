{
 "cells": [
  {
   "cell_type": "code",
   "execution_count": 162,
   "metadata": {},
   "outputs": [],
   "source": [
    "import numpy as np \n",
    "import pandas as pd \n",
    "\n",
    "\n",
    "\n",
    "\n",
    "class AnalysisRaw():\n",
    "    \n",
    "    def __init__(self,time, data):\n",
    "        \"\"\" Object initializing \n",
    "        add trace with childs \"\"\"\n",
    "\n",
    "        # set the time the experiment was runnning\n",
    "        self.time = time\n",
    "        self.data = data # set the data associated to the time\n",
    "        self._trace = None\n",
    "\n",
    "        # make additional slots for the metadata\n",
    "        self._lower_bounds = None\n",
    "        self._upper_bounds = None\n",
    "\n",
    "        self._sweep = None # sweep in voltage or as current\n",
    "        self._meta = None # integrate the metadata to the child \n",
    "        self.sliced_trace = None # both time as well as voltage data\n",
    "        self.sliced_volt = None # only voltage data\n",
    "        self._area = None\n",
    "        self._max = None\n",
    "        self._mean = None\n",
    "        self._min = None\n",
    "\n",
    "    @property\n",
    "    def lower_bounds(self):\n",
    "        \"\"\" get the lower and upper bounds \"\"\"\n",
    "        print(\"The lower bound: \")\n",
    "        return self._lower_bounds\n",
    "    \n",
    "    @property\n",
    "    def upper_bounds(self):\n",
    "        print(\"The upper bound: \")\n",
    "        return self._upper_bounds\n",
    "        \n",
    "\n",
    "    @lower_bounds.setter\n",
    "    def lower_bounds(self, lower_bound):\n",
    "        \"\"\" set the lower and upper bound \"\"\"\n",
    "        print(\"Setting value\")\n",
    "        if type(lower_bound) in [int,float]:\n",
    "            self._lower_bounds = lower_bound\n",
    "        else:\n",
    "            raise TypeError(\"Wrong Input please specificy floats\")\n",
    "            \n",
    "            \n",
    "    @upper_bounds.setter\n",
    "    def upper_bounds(self, upper_bound):\n",
    "        \"\"\" set the lower and upper bound \"\"\"\n",
    "        print(\"Setting value\")\n",
    "        if type(upper_bound) in [int,float]:\n",
    "            self._upper_bounds = upper_bound\n",
    "        else:\n",
    "            raise TypeError(\"Wrong Input please specificy floats\")\n",
    "\n",
    "    def construct_trace(self):\n",
    "        \"\"\" construct the trace \"\"\"  \n",
    "        self.trace = np.vstack((self.time, self.data)).T\n",
    "       \n",
    "    def slice_trace(self):\n",
    "        \"\"\" slice the trace based on the incoming upper and lower bounds \"\"\" \n",
    "        if (self._lower_bounds & self._upper_bounds):\n",
    "            self.sliced_trace = self.trace[((self.trace[:,0] > self._lower_bounds) & (self.trace[:,0] < self._upper_bounds))]\n",
    "            print(self.sliced_trace)\n",
    "            self.sliced_volt = self.sliced_trace[:,1]\n",
    "        else:\n",
    "            raise ValueError(\"No upper and lower bonds set yet, please sets and use the rectangular function\")\n",
    "\n",
    "    def max_current(self):\n",
    "        \"\"\" determine the max voltage \"\"\"\n",
    "        self._max = np.max(self.sliced_volt)\n",
    "        return self._max\n",
    "    \n",
    "    def mean_current(self):\n",
    "        self._mean = np.mean(self.sliced_volt)\n",
    "        return self._mean\n",
    "       \n",
    "    def min_current(self):\n",
    "        self._min = np.min(self.sliced_volt)\n",
    "        return self._min\n",
    "    \n",
    "    def time_to_maximimum():\n",
    "        print(np.where(self.sliced_volt == self._max))\n",
    "\n",
    "    def get_cslow(self, meta_data_slow):\n",
    "        \"\"\" add here check conditions for cslow ranges ect \"\"\" \n",
    "        return meta_data_cslow\n",
    "\n",
    "    def check_rseries(self, rseries):\n",
    "        if type(rseries) is int:\n",
    "            if rseries < 12:\n",
    "                qc = 1\n",
    "                return rseries, qc\n",
    "            else:\n",
    "                raise \"Rseries changed to much is flagged for quality check\"\n",
    "                qc = 0\n",
    "                return rseries, qc \n",
    "\n",
    "    def get_area(self):\n",
    "        self.area =  np.trapz(self.sliced_trace[:,0],self.sliced_trace[:,1])\n",
    "        print(self.area)\n",
    "\n",
    "    @classmethod   \n",
    "    def __sub__(cls, first_trace, second_trace):\n",
    "        try:\n",
    "            sub_trace = self.slice_volt - second_trace\n",
    "        except ValueError:\n",
    "            raise(\"Please use input with the same shape\")\n",
    "\n",
    "    @classmethod\n",
    "    def __add__(cls,first_trace, second_trace):\n",
    "        try:\n",
    "            sub_trace = self.slice_volt + second_trace\n",
    "            return sub_trace\n",
    "        \n",
    "        except:\n",
    "            raise ValueError(\"Please use input with the same shape\")\n",
    "\n",
    "    @classmethod\n",
    "    def __multiply__(cls, first_trace, second_trace):\n",
    "        try: \n",
    "            sub_trace = self.slice_volt * second_trace\n",
    "            return sub_trace\n",
    "        \n",
    "        except ValueError:\n",
    "            raise(\"Please use input with the same shape\")\n",
    "        "
   ]
  },
  {
   "cell_type": "code",
   "execution_count": 99,
   "metadata": {},
   "outputs": [
    {
     "data": {
      "text/plain": [
       "<matplotlib.axes._subplots.AxesSubplot at 0x7f57b5692950>"
      ]
     },
     "execution_count": 99,
     "metadata": {},
     "output_type": "execute_result"
    },
    {
     "data": {
      "image/png": "[encoded data removed]",
      "text/plain": [
       "<Figure size 432x288 with 1 Axes>"
      ]
     },
     "metadata": {
      "needs_background": "light"
     },
     "output_type": "display_data"
    }
   ],
   "source": [
    "import seaborn as sns\n",
    "time = np.linspace(0,100, 200)\n",
    "data = np.random.normal(4, 0.2, 200)\n",
    "sns.lineplot(time, data)"
   ]
  },
  {
   "cell_type": "code",
   "execution_count": 163,
   "metadata": {},
   "outputs": [
    {
     "name": "stdout",
     "output_type": "stream",
     "text": [
      "Setting value\n",
      "Setting value\n",
      "[[30.15075377  3.83117282]\n",
      " [30.65326633  4.04232791]\n",
      " [31.15577889  3.68534215]\n",
      " [31.65829146  3.74912199]\n",
      " [32.16080402  3.95487426]\n",
      " [32.66331658  4.28285439]\n",
      " [33.16582915  3.9154265 ]\n",
      " [33.66834171  3.91262607]\n",
      " [34.17085427  3.5214139 ]\n",
      " [34.67336683  4.32918495]\n",
      " [35.1758794   3.92836192]\n",
      " [35.67839196  3.81636875]\n",
      " [36.18090452  4.0123988 ]\n",
      " [36.68341709  3.97700396]\n",
      " [37.18592965  3.78190392]\n",
      " [37.68844221  4.05334295]\n",
      " [38.19095477  4.09122543]\n",
      " [38.69346734  4.02593247]\n",
      " [39.1959799   4.10607628]\n",
      " [39.69849246  4.0773001 ]]\n",
      "8.591113311148847\n"
     ]
    },
    {
     "ename": "ValueError",
     "evalue": "operands could not be broadcast together with shapes (20,) (200,) ",
     "output_type": "error",
     "traceback": [
      "\u001b[0;31m---------------------------------------------------------------------------\u001b[0m",
      "\u001b[0;31mValueError\u001b[0m                                Traceback (most recent call last)",
      "\u001b[0;32m<ipython-input-163-c612d417f603>\u001b[0m in \u001b[0;36m<module>\u001b[0;34m\u001b[0m\n\u001b[1;32m      8\u001b[0m \u001b[0manalysis\u001b[0m\u001b[0;34m.\u001b[0m\u001b[0mmin_current\u001b[0m\u001b[0;34m(\u001b[0m\u001b[0;34m)\u001b[0m\u001b[0;34m\u001b[0m\u001b[0;34m\u001b[0m\u001b[0m\n\u001b[1;32m      9\u001b[0m \u001b[0manalysis\u001b[0m\u001b[0;34m.\u001b[0m\u001b[0mget_area\u001b[0m\u001b[0;34m(\u001b[0m\u001b[0;34m)\u001b[0m\u001b[0;34m\u001b[0m\u001b[0;34m\u001b[0m\u001b[0m\n\u001b[0;32m---> 10\u001b[0;31m \u001b[0manalysis\u001b[0m\u001b[0;34m.\u001b[0m\u001b[0msliced_trace\u001b[0m\u001b[0;34m[\u001b[0m\u001b[0;34m:\u001b[0m\u001b[0;34m,\u001b[0m\u001b[0;36m0\u001b[0m\u001b[0;34m]\u001b[0m \u001b[0;34m+\u001b[0m \u001b[0mdata\u001b[0m\u001b[0;34m\u001b[0m\u001b[0;34m\u001b[0m\u001b[0m\n\u001b[0m",
      "\u001b[0;31mValueError\u001b[0m: operands could not be broadcast together with shapes (20,) (200,) "
     ]
    }
   ],
   "source": [
    "analysis = AnalysisRaw(time, data)\n",
    "analysis.lower_bounds = 30\n",
    "analysis.upper_bounds = 40\n",
    "analysis.construct_trace()\n",
    "analysis.slice_trace()\n",
    "analysis.max_current()\n",
    "analysis.mean_current()\n",
    "analysis.min_current()\n",
    "analysis.get_area()\n",
    "analysis.sliced_trace[:,0] + data"
   ]
  },
  {
   "cell_type": "code",
   "execution_count": 165,
   "metadata": {},
   "outputs": [
    {
     "data": {
      "text/plain": [
       "(array([], dtype=int64),)"
      ]
     },
     "execution_count": 165,
     "metadata": {},
     "output_type": "execute_result"
    }
   ],
   "source": [
    "np.where(data == 3.94253269)"
   ]
  },
  {
   "cell_type": "code",
   "execution_count": null,
   "metadata": {},
   "outputs": [],
   "source": []
  },
  {
   "cell_type": "code",
   "execution_count": null,
   "metadata": {},
   "outputs": [],
   "source": []
  }
 ],
 "metadata": {
  "kernelspec": {
   "display_name": "Python 3",
   "language": "python",
   "name": "python3"
  },
  "language_info": {
   "codemirror_mode": {
    "name": "ipython",
    "version": 3
   },
   "file_extension": ".py",
   "mimetype": "text/x-python",
   "name": "python",
   "nbconvert_exporter": "python",
   "pygments_lexer": "ipython3",
   "version": "3.7.4"
  }
 },
 "nbformat": 4,
 "nbformat_minor": 2
}
