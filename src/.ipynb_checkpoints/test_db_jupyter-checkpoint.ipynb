{
 "cells": [
  {
   "cell_type": "code",
   "execution_count": 2,
   "metadata": {},
   "outputs": [
    {
     "name": "stdout",
     "output_type": "stream",
     "text": [
      "C:\\Users\\user\\Dropbox\\Biophysical_Essentials\n"
     ]
    },
    {
     "ename": "AttributeError",
     "evalue": "module 'duckdb' has no attribute 'close'",
     "output_type": "error",
     "traceback": [
      "\u001b[1;31m---------------------------------------------------------------------------\u001b[0m",
      "\u001b[1;31mAttributeError\u001b[0m                            Traceback (most recent call last)",
      "\u001b[1;32m<ipython-input-2-181c3e17d825>\u001b[0m in \u001b[0;36m<module>\u001b[1;34m\u001b[0m\n\u001b[0;32m      7\u001b[0m \u001b[0mprint\u001b[0m\u001b[1;33m(\u001b[0m\u001b[0mcew\u001b[0m\u001b[1;33m)\u001b[0m\u001b[1;33m\u001b[0m\u001b[1;33m\u001b[0m\u001b[0m\n\u001b[0;32m      8\u001b[0m \u001b[0mdir_list\u001b[0m \u001b[1;33m=\u001b[0m \u001b[0mos\u001b[0m\u001b[1;33m.\u001b[0m\u001b[0mlistdir\u001b[0m\u001b[1;33m(\u001b[0m\u001b[0mcew\u001b[0m\u001b[1;33m+\u001b[0m \u001b[1;34m\"/src/\"\u001b[0m\u001b[1;33m)\u001b[0m\u001b[1;33m\u001b[0m\u001b[1;33m\u001b[0m\u001b[0m\n\u001b[1;32m----> 9\u001b[1;33m \u001b[0mdatabase\u001b[0m \u001b[1;33m=\u001b[0m \u001b[0mduckdb\u001b[0m\u001b[1;33m.\u001b[0m\u001b[0mclose\u001b[0m\u001b[1;33m(\u001b[0m\u001b[0mcew\u001b[0m \u001b[1;33m+\u001b[0m \u001b[1;34m'\\\\src\\\\'\u001b[0m \u001b[1;33m+\u001b[0m \u001b[0mdb_file_name\u001b[0m\u001b[1;33m,\u001b[0m \u001b[0mread_only\u001b[0m\u001b[1;33m=\u001b[0m\u001b[1;32mFalse\u001b[0m\u001b[1;33m)\u001b[0m\u001b[1;33m\u001b[0m\u001b[1;33m\u001b[0m\u001b[0m\n\u001b[0m",
      "\u001b[1;31mAttributeError\u001b[0m: module 'duckdb' has no attribute 'close'"
     ]
    }
   ],
   "source": [
    "import duckdb\n",
    "import os\n",
    "\n",
    "db_file_name = \"duck_db_analysis_database.db\"\n",
    "\n",
    "cew = os.path.dirname(os.getcwd())\n",
    "print(cew)\n",
    "dir_list = os.listdir(cew+ \"/src/\")\n",
    "\n",
    "database = duckdb.connect(cew + '\\\\src\\\\' + db_file_name, read_only=False)"
   ]
  },
  {
   "cell_type": "code",
   "execution_count": null,
   "metadata": {},
   "outputs": [],
   "source": []
  }
 ],
 "metadata": {
  "kernelspec": {
   "display_name": "Python 3",
   "language": "python",
   "name": "python3"
  },
  "language_info": {
   "codemirror_mode": {
    "name": "ipython",
    "version": 3
   },
   "file_extension": ".py",
   "mimetype": "text/x-python",
   "name": "python",
   "nbconvert_exporter": "python",
   "pygments_lexer": "ipython3",
   "version": "3.7.3"
  },
  "vscode": {
   "interpreter": {
    "hash": "45075914f370f61cd65179599f0367213a9ac493df957490d413c304aeb03188"
   }
  }
 },
 "nbformat": 4,
 "nbformat_minor": 2
}
