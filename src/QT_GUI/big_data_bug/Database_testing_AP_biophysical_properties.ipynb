{
 "cells": [
  {
   "cell_type": "code",
   "execution_count": 8,
   "id": "reasonable-extra",
   "metadata": {},
   "outputs": [
    {
     "name": "stdout",
     "output_type": "stream",
     "text": [
      "         Unnamed: 0       sweep_1\n",
      "0                 0 -8.663886e-11\n",
      "1                 1 -1.113928e-10\n",
      "2                 2 -1.237698e-10\n",
      "3                 3 -1.299583e-10\n",
      "4                 4 -1.237698e-10\n",
      "...             ...           ...\n",
      "1239995     1239995 -1.175813e-10\n",
      "1239996     1239996 -1.113928e-10\n",
      "1239997     1239997 -1.113928e-10\n",
      "1239998     1239998 -1.299583e-10\n",
      "1239999     1239999 -1.113928e-10\n",
      "\n",
      "[1240000 rows x 2 columns]\n"
     ]
    },
    {
     "data": {
      "image/png": "[encoded data removed]",
      "text/plain": [
       "<Figure size 432x288 with 1 Axes>"
      ]
     },
     "metadata": {
      "needs_background": "light"
     },
     "output_type": "display_data"
    }
   ],
   "source": [
    "## read in the signal as it comes from the .dat file\n",
    "\n",
    "import pandas as pd\n",
    "import matplotlib.pyplot as plt\n",
    "\n",
    "# big data object\n",
    "df = pd.read_csv(r'imon_signal_211123_08_Series3.csv')\n",
    "\n",
    "#small data object\n",
    "#df = pd.read_csv(r'imon_signal_201229_02_series1.csv')\n",
    "\n",
    "print(df)\n",
    "\n",
    "fig = plt.plot(df[\"sweep_1\"].values.tolist())\n",
    "plt.show()"
   ]
  },
  {
   "cell_type": "code",
   "execution_count": 9,
   "id": "interior-radio",
   "metadata": {},
   "outputs": [
    {
     "name": "stdout",
     "output_type": "stream",
     "text": [
      "[('df_1',), ('insert_test',)]\n"
     ]
    }
   ],
   "source": [
    "## create a small testdatabase and register the big dataframe\n",
    "\n",
    "import duckdb\n",
    "database = duckdb.connect('test_db.db', read_only=False)\n",
    "database.execute(\"Drop table insert_test\")\n",
    "database.register(\"df_1\",df)\n",
    "database.execute(f'create table insert_test as select * from df_1')\n",
    "print(database.execute(\"Show tables\").fetchall())"
   ]
  },
  {
   "cell_type": "code",
   "execution_count": 10,
   "id": "broke-paragraph",
   "metadata": {},
   "outputs": [
    {
     "data": {
      "image/png": "[encoded data removed]",
      "text/plain": [
       "<Figure size 432x288 with 1 Axes>"
      ]
     },
     "metadata": {
      "needs_background": "light"
     },
     "output_type": "display_data"
    },
    {
     "name": "stdout",
     "output_type": "stream",
     "text": [
      "closed\n"
     ]
    }
   ],
   "source": [
    "## finally take out the dataframe and plot it\n",
    "\n",
    "df = database.execute(\"select * from insert_test\").df()\n",
    "fig = plt.plot(df[\"sweep_1\"].values.tolist())\n",
    "plt.show()\n",
    "database.close()\n",
    "print(\"closed\")"
   ]
  },
  {
   "cell_type": "code",
   "execution_count": 20,
   "id": "decimal-football",
   "metadata": {},
   "outputs": [
    {
     "ename": "RuntimeError",
     "evalue": "Conversion Error: Unimplemented type for cast (DOUBLE[] -> FLOAT)",
     "output_type": "error",
     "traceback": [
      "\u001b[1;31m---------------------------------------------------------------------------\u001b[0m",
      "\u001b[1;31mRuntimeError\u001b[0m                              Traceback (most recent call last)",
      "\u001b[1;32m<ipython-input-20-16199c25d1c6>\u001b[0m in \u001b[0;36m<module>\u001b[1;34m\u001b[0m\n\u001b[0;32m      4\u001b[0m \u001b[0mdatabase\u001b[0m\u001b[1;33m.\u001b[0m\u001b[0mexecute\u001b[0m\u001b[1;33m(\u001b[0m\u001b[1;34m\"Drop table insert_test_solution\"\u001b[0m\u001b[1;33m)\u001b[0m\u001b[1;33m\u001b[0m\u001b[1;33m\u001b[0m\u001b[0m\n\u001b[0;32m      5\u001b[0m \u001b[0mdatabase\u001b[0m\u001b[1;33m.\u001b[0m\u001b[0mexecute\u001b[0m\u001b[1;33m(\u001b[0m\u001b[1;34m\"create table insert_test_solution(sweep1 float)\"\u001b[0m\u001b[1;33m)\u001b[0m\u001b[1;33m\u001b[0m\u001b[1;33m\u001b[0m\u001b[0m\n\u001b[1;32m----> 6\u001b[1;33m \u001b[0mdatabase\u001b[0m\u001b[1;33m.\u001b[0m\u001b[0mexecute\u001b[0m\u001b[1;33m(\u001b[0m\u001b[1;34mf'insert into insert_test_solution(sweep1) values ({df[\"sweep_1\"].values.tolist()})'\u001b[0m\u001b[1;33m)\u001b[0m\u001b[1;33m\u001b[0m\u001b[1;33m\u001b[0m\u001b[0m\n\u001b[0m\u001b[0;32m      7\u001b[0m \u001b[1;33m\u001b[0m\u001b[0m\n\u001b[0;32m      8\u001b[0m \u001b[0mdf\u001b[0m \u001b[1;33m=\u001b[0m \u001b[0mdatabase\u001b[0m\u001b[1;33m.\u001b[0m\u001b[0mexecute\u001b[0m\u001b[1;33m(\u001b[0m\u001b[1;34m\"select * from insert_test_solution\"\u001b[0m\u001b[1;33m)\u001b[0m\u001b[1;33m.\u001b[0m\u001b[0mdf\u001b[0m\u001b[1;33m(\u001b[0m\u001b[1;33m)\u001b[0m\u001b[1;33m\u001b[0m\u001b[1;33m\u001b[0m\u001b[0m\n",
      "\u001b[1;31mRuntimeError\u001b[0m: Conversion Error: Unimplemented type for cast (DOUBLE[] -> FLOAT)"
     ]
    }
   ],
   "source": [
    "# solution for this problem\n",
    "import duckdb\n",
    "database = duckdb.connect('test_db.db', read_only=False)\n",
    "database.execute(\"Drop table insert_test_solution\")\n",
    "database.execute(\"create table insert_test_solution(sweep1 float)\")\n",
    "database.execute(f'insert into insert_test_solution(sweep1) values ({df[\"sweep_1\"].values.tolist()})')\n",
    "\n",
    "df = database.execute(\"select * from insert_test_solution\").df()\n",
    "fig = plt.plot(df[\"sweep_1\"].values.tolist())\n",
    "plt.show()\n",
    "database.close()\n"
   ]
  },
  {
   "cell_type": "code",
   "execution_count": 19,
   "id": "billion-incident",
   "metadata": {},
   "outputs": [],
   "source": [
    "database.close()"
   ]
  },
  {
   "cell_type": "code",
   "execution_count": null,
   "id": "impressed-operator",
   "metadata": {},
   "outputs": [],
   "source": []
  },
  {
   "cell_type": "code",
   "execution_count": null,
   "id": "floating-killer",
   "metadata": {},
   "outputs": [],
   "source": []
  },
  {
   "cell_type": "code",
   "execution_count": null,
   "id": "tropical-group",
   "metadata": {},
   "outputs": [],
   "source": []
  }
 ],
 "metadata": {
  "kernelspec": {
   "display_name": "Python 3",
   "language": "python",
   "name": "python3"
  },
  "language_info": {
   "codemirror_mode": {
    "name": "ipython",
    "version": 3
   },
   "file_extension": ".py",
   "mimetype": "text/x-python",
   "name": "python",
   "nbconvert_exporter": "python",
   "pygments_lexer": "ipython3",
   "version": "3.10.2"
  }
 },
 "nbformat": 4,
 "nbformat_minor": 5
}
