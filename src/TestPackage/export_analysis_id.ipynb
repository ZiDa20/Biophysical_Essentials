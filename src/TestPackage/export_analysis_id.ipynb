{
 "cells": [
  {
   "cell_type": "code",
   "execution_count": 6,
   "metadata": {},
   "outputs": [],
   "source": [
    "import duckdb\n",
    "\n",
    "offline_analysis_id = 15\n",
    "\n",
    "con = duckdb.connect(\"duck_db_analysis_database.db\", read_only= True)\n",
    "con2 = duckdb.connect(f\"offline_analysis_id_{offline_analysis_id}.duckdb\")"
   ]
  },
  {
   "cell_type": "code",
   "execution_count": 7,
   "metadata": {},
   "outputs": [],
   "source": [
    "def add_pgf_meta_raw_tables_batch(experiment_series, results,  con , con2):\n",
    "    table_names = [\"sweep_table_name\", \"meta_data_table_name\", \"pgf_data_table_name\"]\n",
    "    for name in table_names:\n",
    "        for table in experiment_series[name]:\n",
    "                df_data = con.execute(f\"Select * from {table}\").fetchdf()\n",
    "                con2.execute(f\"CREATE TABLE {table} AS SELECT * FROM df_data\")\n",
    "    \n",
    "    for result in results[\"specific_result_table_name\"]:\n",
    "        df_data = con.execute(f\"Select * from {result}\").fetchdf()\n",
    "        con2.execute(f\"CREATE TABLE {result} AS SELECT * FROM df_data\")\n",
    "\n",
    "\n",
    "def create_table_offline_analysis(con2, offline_analysis_id, max_length):\n",
    "\n",
    "    con2.execute(f\"CREATE SEQUENCE unique_offline_analysis_sequence START {offline_analysis_id + 1};\")\n",
    "    con2.execute(f\"CREATE SEQUENCE analysis_function_sequence START {max_length + 1};\")\n",
    "\n",
    "    sql_create_offline_analysis_table = \"\"\" CREATE TABLE offline_analysis(\n",
    "                                            analysis_id integer PRIMARY KEY DEFAULT(nextval ('unique_offline_analysis_sequence')),\n",
    "                                            date_time TIMESTAMP,\n",
    "                                            user_name TEXT,\n",
    "                                            selected_meta_data text); \"\"\"\n",
    "    \n",
    "    sql_create_analysis_function_table = \"\"\" CREATE TABLE analysis_functions(\n",
    "                                            analysis_function_id integer PRIMARY KEY DEFAULT(NEXTVAL('analysis_function_sequence')),\n",
    "                                            function_name text,\n",
    "                                            lower_bound float,\n",
    "                                            upper_bound float,\n",
    "                                            analysis_series_name text,\n",
    "                                            analysis_id integer\n",
    "                                            );\"\"\"\n",
    "\n",
    "    con2.execute(sql_create_offline_analysis_table)\n",
    "    con2.execute(sql_create_analysis_function_table)\n",
    "\n",
    "\n",
    "#create_table_offline_analysis(con2, offline_analysis_id)\n",
    "# get the analysis_series_name from the duckdb database using a certain analysis_id code\n",
    "# this should be a export offline analysis id function that can be shared and used with others using the viewer portion!\n",
    "# tables from experiment section\n",
    "experiment_analysis_mapping = con.execute(f\"SELECT * FROM experiment_analysis_mapping WHERE analysis_id = {offline_analysis_id}\").fetchdf() # experiment_analysis_mapping_table\n",
    "experiments = con.execute(f\"SELECT * FROM experiments WHERE experiment_name IN {tuple(experiment_analysis_mapping['experiment_name'].values)}\").fetch_df() # experiment_table\n",
    "experiment_series = con.execute(f\"SELECT * FROM experiment_series WHERE experiment_name IN {tuple(experiment_analysis_mapping['experiment_name'].values)}\").fetch_df()\n",
    "\n",
    "# Analysis Tables\n",
    "offline_analysis = con.execute(f\"SELECT * FROM offline_analysis WHERE analysis_id = {offline_analysis_id}\").fetchdf()\n",
    "analysis_series =  con.execute(f\"SELECT * FROM analysis_series WHERE analysis_id = {offline_analysis_id}\").fetchdf()\n",
    "analysis_functions =  con.execute(f\"SELECT * FROM analysis_functions WHERE analysis_id = {offline_analysis_id}\").fetchdf()\n",
    "max_index = max(analysis_functions[\"analysis_function_id\"].tolist())\n",
    "create_table_offline_analysis(con2, offline_analysis_id, max_index)\n",
    "# result table names\n",
    "results =  con.execute(f\"SELECT * FROM results WHERE analysis_id = {offline_analysis_id}\").fetchdf()\n",
    "\n",
    "#here we retrieve the selected metadata tables from the analysis\n",
    "global_meta_data =  con.execute(f\"SELECT * FROM global_meta_data WHERE experiment_name IN {tuple(experiment_analysis_mapping['experiment_name'].values)}\").fetchdf()\n",
    "selected_meta_data =  con.execute(f\"SELECT * FROM selected_meta_data WHERE offline_analysis_id = {offline_analysis_id}\").fetchdf()\n",
    "sweep_meta_data =  con.execute(f\"SELECT * FROM sweep_meta_data WHERE experiment_name IN {tuple(experiment_analysis_mapping['experiment_name'].values)}\").fetchdf()\n"
   ]
  },
  {
   "cell_type": "code",
   "execution_count": 8,
   "metadata": {},
   "outputs": [
    {
     "data": {
      "text/html": [
       "<div>\n",
       "<style scoped>\n",
       "    .dataframe tbody tr th:only-of-type {\n",
       "        vertical-align: middle;\n",
       "    }\n",
       "\n",
       "    .dataframe tbody tr th {\n",
       "        vertical-align: top;\n",
       "    }\n",
       "\n",
       "    .dataframe thead th {\n",
       "        text-align: right;\n",
       "    }\n",
       "</style>\n",
       "<table border=\"1\" class=\"dataframe\">\n",
       "  <thead>\n",
       "    <tr style=\"text-align: right;\">\n",
       "      <th></th>\n",
       "      <th>analysis_series_name</th>\n",
       "      <th>time</th>\n",
       "      <th>recording_mode</th>\n",
       "      <th>analysis_id</th>\n",
       "    </tr>\n",
       "  </thead>\n",
       "  <tbody>\n",
       "    <tr>\n",
       "      <th>0</th>\n",
       "      <td>Block Pulse</td>\n",
       "      <td>NaN</td>\n",
       "      <td>Voltage Clamp</td>\n",
       "      <td>15</td>\n",
       "    </tr>\n",
       "    <tr>\n",
       "      <th>1</th>\n",
       "      <td>IV</td>\n",
       "      <td>NaN</td>\n",
       "      <td>Voltage Clamp</td>\n",
       "      <td>15</td>\n",
       "    </tr>\n",
       "    <tr>\n",
       "      <th>2</th>\n",
       "      <td>IV_40_new</td>\n",
       "      <td>NaN</td>\n",
       "      <td>Voltage Clamp</td>\n",
       "      <td>15</td>\n",
       "    </tr>\n",
       "    <tr>\n",
       "      <th>3</th>\n",
       "      <td>Inact</td>\n",
       "      <td>NaN</td>\n",
       "      <td>Voltage Clamp</td>\n",
       "      <td>15</td>\n",
       "    </tr>\n",
       "    <tr>\n",
       "      <th>4</th>\n",
       "      <td>CClamp</td>\n",
       "      <td>NaN</td>\n",
       "      <td>Current Clamp</td>\n",
       "      <td>15</td>\n",
       "    </tr>\n",
       "    <tr>\n",
       "      <th>5</th>\n",
       "      <td>InputRes</td>\n",
       "      <td>NaN</td>\n",
       "      <td>Current Clamp</td>\n",
       "      <td>15</td>\n",
       "    </tr>\n",
       "  </tbody>\n",
       "</table>\n",
       "</div>"
      ],
      "text/plain": [
       "  analysis_series_name time recording_mode  analysis_id\n",
       "0          Block Pulse  NaN  Voltage Clamp           15\n",
       "1                   IV  NaN  Voltage Clamp           15\n",
       "2            IV_40_new  NaN  Voltage Clamp           15\n",
       "3                Inact  NaN  Voltage Clamp           15\n",
       "4               CClamp  NaN  Current Clamp           15\n",
       "5             InputRes  NaN  Current Clamp           15"
      ]
     },
     "execution_count": 8,
     "metadata": {},
     "output_type": "execute_result"
    }
   ],
   "source": [
    "analysis_series"
   ]
  },
  {
   "cell_type": "code",
   "execution_count": 2,
   "metadata": {},
   "outputs": [
    {
     "ename": "NameError",
     "evalue": "name 'con2' is not defined",
     "output_type": "error",
     "traceback": [
      "\u001b[1;31m---------------------------------------------------------------------------\u001b[0m",
      "\u001b[1;31mNameError\u001b[0m                                 Traceback (most recent call last)",
      "Cell \u001b[1;32mIn[2], line 2\u001b[0m\n\u001b[0;32m      1\u001b[0m \u001b[39mimport\u001b[39;00m \u001b[39mduckdb\u001b[39;00m\n\u001b[1;32m----> 2\u001b[0m con2\u001b[39m.\u001b[39mexecute(\u001b[39m\"\u001b[39m\u001b[39mSelect * from offline_analysis\u001b[39m\u001b[39m\"\u001b[39m)\u001b[39m.\u001b[39mfetchdf()\n",
      "\u001b[1;31mNameError\u001b[0m: name 'con2' is not defined"
     ]
    }
   ],
   "source": [
    "transfer_list = [\"experiment_analysis_mapping\",\n",
    "                 \"experiments\",\n",
    "                 \"experiment_series\", \n",
    "                 \"analysis_series\", \n",
    "                 \"results\", \n",
    "                 \"global_meta_data\",\n",
    "                 \"selected_meta_data\",\n",
    "                 \"sweep_meta_data\"\n",
    "                ]    \n",
    "   \n",
    "transfer_two = [\"offline_analysis\",\n",
    "                \"analysis_functions\"]\n",
    "\n",
    "for data in transfer_list:\n",
    "     con2.execute(f\"CREATE TABLE {data} AS SELECT * FROM {data}\")\n",
    "\n",
    "con2.executemany(\"INSERT INTO offline_analysis VALUES (?, ?, ?, ?)\", offline_analysis.values)\n",
    "con2.executemany(\"INSERT INTO analysis_functions VALUES (?, ?, ?, ?,?,?)\", analysis_functions.values)\n",
    "\n",
    "add_pgf_meta_raw_tables_batch(experiment_series, results, con, con2)"
   ]
  },
  {
   "cell_type": "code",
   "execution_count": 10,
   "metadata": {},
   "outputs": [],
   "source": [
    "trial = duckdb.connect(r\"C:\\Users\\user\\Desktop\\duck_db_analysis_database.db\")"
   ]
  },
  {
   "cell_type": "code",
   "execution_count": 14,
   "metadata": {},
   "outputs": [],
   "source": [
    "con.close()"
   ]
  }
 ],
 "metadata": {
  "kernelspec": {
   "display_name": "biophys",
   "language": "python",
   "name": "python3"
  },
  "language_info": {
   "codemirror_mode": {
    "name": "ipython",
    "version": 3
   },
   "file_extension": ".py",
   "mimetype": "text/x-python",
   "name": "python",
   "nbconvert_exporter": "python",
   "pygments_lexer": "ipython3",
   "version": "3.10.8"
  },
  "orig_nbformat": 4,
  "vscode": {
   "interpreter": {
    "hash": "c8fdc26116615744c7a9eedfa9327dab29d43e3c5bdf27e49c78612816e32f73"
   }
  }
 },
 "nbformat": 4,
 "nbformat_minor": 2
}
