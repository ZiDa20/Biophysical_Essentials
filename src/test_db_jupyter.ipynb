{
 "cells": [
  {
   "cell_type": "code",
   "execution_count": 1,
   "metadata": {},
   "outputs": [
    {
     "name": "stdout",
     "output_type": "stream",
     "text": [
      "/Users/maximilianzeidler/Dropbox/Biophysical_Essentials\n"
     ]
    }
   ],
   "source": [
    "import duckdb\n",
    "import os\n",
    "\n",
    "db_file_name = \"duck_db_analysis_database.db\"\n",
    "\n",
    "cew = os.path.dirname(os.getcwd())\n",
    "print(cew)\n",
    "dir_list = os.listdir(cew+ \"/src/\")\n",
    "\n",
    "database = duckdb.connect(cew + '\\\\src\\\\' + db_file_name, read_only=False)\n"
   ]
  },
  {
   "cell_type": "code",
   "execution_count": 4,
   "metadata": {},
   "outputs": [],
   "source": [
    "database.execute(\"SHOW TABLES\").fetchnumpy()\n",
    "database.close()"
   ]
  }
 ],
 "metadata": {
  "kernelspec": {
   "display_name": "Python 3.10.4 ('biophys')",
   "language": "python",
   "name": "python3"
  },
  "language_info": {
   "codemirror_mode": {
    "name": "ipython",
    "version": 3
   },
   "file_extension": ".py",
   "mimetype": "text/x-python",
   "name": "python",
   "nbconvert_exporter": "python",
   "pygments_lexer": "ipython3",
   "version": "3.10.4"
  },
  "vscode": {
   "interpreter": {
    "hash": "f8e00461b71a379f3d8995695e4d645318af08a0919dae2abf9bbb5fdb1446d6"
   }
  }
 },
 "nbformat": 4,
 "nbformat_minor": 2
}
