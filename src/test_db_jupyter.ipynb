{
 "cells": [
  {
   "cell_type": "code",
   "execution_count": 10,
   "metadata": {},
   "outputs": [
    {
     "name": "stdout",
     "output_type": "stream",
     "text": [
      "c:\\Users\\user\\Dropbox\\Biophysical_Essentials\n"
     ]
    }
   ],
   "source": [
    "import duckdb\n",
    "import os\n",
    "\n",
    "db_file_name = \"duck_db_analysis_database.db\"\n",
    "\n",
    "cew = os.path.dirname(os.getcwd())\n",
    "print(cew)\n",
    "dir_list = os.listdir(cew+ \"/src/\")\n",
    "database.close()\n",
    "#database = duckdb.connect(cew + '\\\\src\\\\' + db_file_name, read_only=False)"
   ]
  }
 ],
 "metadata": {
  "kernelspec": {
   "display_name": "Python 3.9.8 64-bit ('etools_qt': venv)",
   "language": "python",
   "name": "python3"
  },
  "language_info": {
   "codemirror_mode": {
    "name": "ipython",
    "version": 3
   },
   "file_extension": ".py",
   "mimetype": "text/x-python",
   "name": "python",
   "nbconvert_exporter": "python",
   "pygments_lexer": "ipython3",
   "version": "3.9.13"
  },
  "orig_nbformat": 4,
  "vscode": {
   "interpreter": {
    "hash": "45075914f370f61cd65179599f0367213a9ac493df957490d413c304aeb03188"
   }
  }
 },
 "nbformat": 4,
 "nbformat_minor": 2
}
