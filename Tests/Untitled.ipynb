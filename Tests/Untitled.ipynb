{
 "cells": [
  {
   "cell_type": "code",
   "execution_count": 7,
   "metadata": {
    "scrolled": true
   },
   "outputs": [
    {
     "name": "stderr",
     "output_type": "stream",
     "text": [
      "Invalid requirement: 'duckdb=0.4.0'\n",
      "= is not a valid operator. Did you mean == ?\n"
     ]
    },
    {
     "ename": "RuntimeError",
     "evalue": "IO Error: Trying to read a database file with version number 33, but we can only read version 27.\nThe database file was created with an newer version of DuckDB.\n\nThe storage of DuckDB is not yet stable; newer versions of DuckDB cannot read old database files and vice versa.\nThe storage will be stabilized when version 1.0 releases.\n\nFor now, we recommend that you load the database file in a supported version of DuckDB, and use the EXPORT DATABASE command followed by IMPORT DATABASE on the current version of DuckDB.",
     "output_type": "error",
     "traceback": [
      "\u001b[1;31m---------------------------------------------------------------------------\u001b[0m",
      "\u001b[1;31mRuntimeError\u001b[0m                              Traceback (most recent call last)",
      "\u001b[1;32m<ipython-input-7-415daf111a9a>\u001b[0m in \u001b[0;36m<module>\u001b[1;34m\u001b[0m\n\u001b[0;32m      7\u001b[0m \u001b[0mcew\u001b[0m \u001b[1;33m=\u001b[0m \u001b[0mos\u001b[0m\u001b[1;33m.\u001b[0m\u001b[0mpath\u001b[0m\u001b[1;33m.\u001b[0m\u001b[0mdirname\u001b[0m\u001b[1;33m(\u001b[0m\u001b[0mos\u001b[0m\u001b[1;33m.\u001b[0m\u001b[0mgetcwd\u001b[0m\u001b[1;33m(\u001b[0m\u001b[1;33m)\u001b[0m\u001b[1;33m)\u001b[0m\u001b[1;33m\u001b[0m\u001b[1;33m\u001b[0m\u001b[0m\n\u001b[0;32m      8\u001b[0m \u001b[0mdir_list\u001b[0m \u001b[1;33m=\u001b[0m \u001b[0mos\u001b[0m\u001b[1;33m.\u001b[0m\u001b[0mlistdir\u001b[0m\u001b[1;33m(\u001b[0m\u001b[0mcew\u001b[0m\u001b[1;33m+\u001b[0m \u001b[1;34m\"/src/\"\u001b[0m\u001b[1;33m)\u001b[0m\u001b[1;33m\u001b[0m\u001b[1;33m\u001b[0m\u001b[0m\n\u001b[1;32m----> 9\u001b[1;33m \u001b[0mself\u001b[0m\u001b[1;33m.\u001b[0m\u001b[0mdatabase\u001b[0m \u001b[1;33m=\u001b[0m \u001b[0mduckdb\u001b[0m\u001b[1;33m.\u001b[0m\u001b[0mconnect\u001b[0m\u001b[1;33m(\u001b[0m\u001b[0mcew\u001b[0m \u001b[1;33m+\u001b[0m \u001b[1;34m'\\\\src\\\\'\u001b[0m \u001b[1;33m+\u001b[0m \u001b[0mdb_file_name\u001b[0m\u001b[1;33m,\u001b[0m \u001b[0mread_only\u001b[0m\u001b[1;33m=\u001b[0m\u001b[1;32mFalse\u001b[0m\u001b[1;33m)\u001b[0m\u001b[1;33m\u001b[0m\u001b[1;33m\u001b[0m\u001b[0m\n\u001b[0m",
      "\u001b[1;31mRuntimeError\u001b[0m: IO Error: Trying to read a database file with version number 33, but we can only read version 27.\nThe database file was created with an newer version of DuckDB.\n\nThe storage of DuckDB is not yet stable; newer versions of DuckDB cannot read old database files and vice versa.\nThe storage will be stabilized when version 1.0 releases.\n\nFor now, we recommend that you load the database file in a supported version of DuckDB, and use the EXPORT DATABASE command followed by IMPORT DATABASE on the current version of DuckDB."
     ]
    }
   ],
   "source": [
    "!pip install duckdb=0.4.0\n",
    "import duckdb\n",
    "import os\n",
    "\n",
    "db_file_name = \"duck_db_analysis_database.db\"\n",
    "\n",
    "cew = os.path.dirname(os.getcwd())\n",
    "dir_list = os.listdir(cew+ \"/src/\")\n",
    "self.database = duckdb.connect(cew + '\\\\src\\\\' + db_file_name, read_only=False)"
   ]
  }
 ],
 "metadata": {
  "kernelspec": {
   "display_name": "Python 3",
   "language": "python",
   "name": "python3"
  },
  "language_info": {
   "codemirror_mode": {
    "name": "ipython",
    "version": 3
   },
   "file_extension": ".py",
   "mimetype": "text/x-python",
   "name": "python",
   "nbconvert_exporter": "python",
   "pygments_lexer": "ipython3",
   "version": "3.7.3"
  }
 },
 "nbformat": 4,
 "nbformat_minor": 4
}
