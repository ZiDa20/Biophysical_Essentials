{
 "cells": [
  {
   "cell_type": "code",
   "execution_count": 26,
   "id": "2d8ca201",
   "metadata": {},
   "outputs": [
    {
     "data": {
      "text/plain": [
       "'TREK_-120pp_RAMP'"
      ]
     },
     "execution_count": 26,
     "metadata": {},
     "output_type": "execute_result"
    }
   ],
   "source": [
    "import pyabf\n",
    "\n",
    "abf = pyabf.ABF(\"02FEB2019_0002.abf\")\n",
    "def get_data_from_sweep(abf):\n",
    "    data_array = []\n",
    "    for sweep in abf.sweepList:\n",
    "        abf.setSweep(sweep)\n",
    "        data = abf.sweepY\n",
    "        time = abf.sweepX\n",
    "        waveform = abf.sweepC\n",
    "    \n",
    "\n",
    "#abf.sweepY\n",
    "#abf.sweepX\n",
    "#abf.sweepC\n",
    "\n",
    "abf.protocol"
   ]
  },
  {
   "cell_type": "code",
   "execution_count": 15,
   "id": "fa1df4b6",
   "metadata": {},
   "outputs": [],
   "source": [
    "class AbfReader():\n",
    "    \n",
    "    def __init__(self, abf_path):\n",
    "        self.abf_path = abf_path\n",
    "        self.abf = None\n",
    "        self.abf_data_dictionary = None\n",
    "        self.abf_property_dictionary = None\n",
    "        \n",
    "        \n",
    "            \n",
    "    def load_abf(self):\n",
    "        self.abf = pyabf.ABF(self.abf_path)\n",
    "        \n",
    "    def get_recording_data(self):\n",
    "        \"\"\"\n",
    "        Should retrieve the \"\"\"\n",
    "        \n",
    "        if self.abf:\n",
    "            \n",
    "            self.abf_data_dictionary = {\"sweep_data\" :[], \"time_data\":[]}\n",
    "            self.abf_property_dictionary = {\"abfTime\": self.abf.abfDateTime,\n",
    "                                      \"abfVersion\": self.abf.abfVersion,\n",
    "                                      \"adcNames\": self.abf.adcNames,\n",
    "                                      \"channelCount\": self.abf.channelCount,\n",
    "                                      \"dacUnits\": self.abf.dacUnits,\n",
    "                                      \"dataLengthSec\": self.abf.dataLengthSec,\n",
    "                                      \"dataPointCount\": self.abf.dataPointCount,\n",
    "                                      \"dataRate\":self.abf.dataRate,\n",
    "                                      \"protocol\": self.protocol,\n",
    "                                      }\n",
    "            \n",
    "    def get_data_from_sweep(self):\n",
    "        data_array = []\n",
    "        time_array = []\n",
    "        swave_array = []\n",
    "        for sweep in abf.sweepList:\n",
    "            abf.setSweep(sweep)\n",
    "            data = abf.sweepY\n",
    "            time = abf.sweepX\n",
    "            waveform = abf.sweepC\n",
    "        \n",
    "    def get_command_epoch_table(self):\n",
    "        for i, p1 in enumerate(abf.sweepEpochs.levels):\n",
    "            epochLevel = abf.sweepEpochs.levels[i]\n",
    "            epochType = abf.sweepEpochs.types[i]\n",
    "            print(f\"epoch index {i}: at point {p1} there is a {epochType} to level {epochLevel}\")\n",
    "        \n",
    "    \n",
    "    \n",
    "        \n",
    "        \n",
    "    \n",
    "    \n",
    "\n",
    "        \n",
    "        "
   ]
  },
  {
   "cell_type": "code",
   "execution_count": 16,
   "id": "66838a5f",
   "metadata": {},
   "outputs": [
    {
     "name": "stdout",
     "output_type": "stream",
     "text": [
      "epoch index 0: at point 0.0 there is a Step to level 0.0\n",
      "epoch index 1: at point 0.0 there is a Step to level 0.0\n",
      "epoch index 2: at point 60.0 there is a Step to level 60.0\n",
      "epoch index 3: at point 0.0 there is a Step to level 0.0\n",
      "epoch index 4: at point 0.0 there is a Step to level 0.0\n"
     ]
    }
   ],
   "source": [
    "abf_data = AbfReader(\"02FEB2019_0003.abf\")\n",
    "abf_data.get_command_epoch_table()"
   ]
  }
 ],
 "metadata": {
  "kernelspec": {
   "display_name": "Python 3",
   "language": "python",
   "name": "python3"
  },
  "language_info": {
   "codemirror_mode": {
    "name": "ipython",
    "version": 3
   },
   "file_extension": ".py",
   "mimetype": "text/x-python",
   "name": "python",
   "nbconvert_exporter": "python",
   "pygments_lexer": "ipython3",
   "version": "3.9.5"
  }
 },
 "nbformat": 4,
 "nbformat_minor": 5
}
